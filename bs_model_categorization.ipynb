{
 "cells": [
  {
   "cell_type": "code",
   "execution_count": null,
   "id": "initial_id",
   "metadata": {
    "collapsed": true
   },
   "outputs": [],
   "source": [
    "import pandas as pd\n",
    "import ollama\n",
    "import matplotlib.pyplot as plt\n",
    "from datetime import timedelta"
   ]
  },
  {
   "cell_type": "code",
   "outputs": [],
   "source": [
    "def preprocess(df):\n",
    "    df = df[df['created_at'] <= '2024-04-24 17:37']\n",
    "    # 1 bis 6\n",
    "    # keep only rows where 'user_name' includes 'ths3'\n",
    "    #df = df[df['user_name'].str.contains('ths3', case=False)]\n",
    "    df = df[df['user_name'].str.contains(r'ths3p[1-6]', case=False)]\n",
    "    # if two rows have same session id and same answers to all questions, keep only one row\n",
    "    df.drop_duplicates(subset=['session_id', 'yrActivities', 'onYrMind'], keep='first', inplace=True)\n",
    "\n",
    "    # drop rows where the session id is longer than 5 digits\n",
    "    df = df[df['session_id'].astype(str).map(len) <= 5]\n",
    "    \n",
    "    # if two rows have the same session id but different answers to the questions, add one day to the date in \"created_at\" column\n",
    "    # Convert created_at to datetime\n",
    "    df['created_at'] = pd.to_datetime(df['created_at'])\n",
    "    \n",
    "    # Identify duplicates by session_id\n",
    "    duplicates = df[df.duplicated(subset=['session_id'], keep=False)]\n",
    "    \n",
    "    # Iterate over each group of duplicates\n",
    "    for session_id, group in duplicates.groupby('session_id'):\n",
    "        if len(group) > 1:\n",
    "            # Sort by created_at to add days incrementally\n",
    "            group = group.sort_values(by='created_at')\n",
    "            for i in range(1, len(group)):\n",
    "                df.loc[group.index[i], 'created_at'] += timedelta(days=i)\n",
    "                \n",
    "    df = df.dropna(subset=['yrDay'])\n",
    "    \n",
    "    return df\n",
    "\n",
    "# Prepare dfs\n",
    "df = pd.read_csv('data/pepper_dump_19_06_2024.csv')\n",
    "\n",
    "df_eval_c = pd.read_csv('data/pepper_biopyschosocialenv_manually_labeled_responses_redacted.csv')\n",
    "df_eval_c['created_at'] = pd.to_datetime(df_eval_c['created_at'], errors='coerce')\n",
    "df_eval_c['created_at'] = df_eval_c['created_at'].dt.strftime('%Y-%m-%d %H:%M:%S')\n",
    "\n",
    "# merge all cols to df_eval_c on FsDaily_id\n",
    "additional_columns = [col for col in df.columns if col not in df_eval_c.columns]\n",
    "df_eval_c = df_eval_c.merge(df[['FsDaily_id'] + additional_columns], on='FsDaily_id', how='inner')\n",
    "\n",
    "# Apply preprocessing\n",
    "df = preprocess(df)\n",
    "df_eval = preprocess(df_eval_c)\n",
    "df_eval"
   ],
   "metadata": {
    "collapsed": false
   },
   "id": "45c9c1a3a76fdb0c",
   "execution_count": null
  },
  {
   "cell_type": "code",
   "outputs": [],
   "source": [
    "def extract_label(response):\n",
    "    candidate_labels = ['environmental', 'physical', 'mental', 'social', 'other']\n",
    "\n",
    "    for label in candidate_labels:\n",
    "        if label in response:\n",
    "            return label\n",
    "    return None\n",
    "\n",
    "def analyze_sentiment(df, column):\n",
    "\n",
    "    prompt_template = (\"\"\"\n",
    "        Bitte analysiere den folgenden Text und ordne ihn einer der vorgegebenen Kategorien zu: 'environmental', 'physical', 'mental', 'social'.\n",
    "        \n",
    "        Falls der Text keine Informationen enthält, die eine genaue Zuordnung zulassen, antworte mit 'other'.\n",
    "        \n",
    "        - 'social': Sobald im Text von einer anderen Person berichtet wird oder soziale Aktivitäten erwähnt werden. Beispiel: \"Ich habe meinen Freund getroffen.\"\n",
    "        - 'environmental': Sobald es im Text um das Wetter oder die Umwelt geht. Beispiel: \"Heute war es sehr sonnig.\"\n",
    "        - 'physical': Sobald im Text über körperliche Beschwerden, wie Schmerzen oder körperliche Aktivitäten, gesprochen wird. Beispiel: \"Ich habe heute Sport gemacht.\"\n",
    "        - 'mental': Sobald es im Text um das psychische Wohlbefinden geht. Beispiel: \"Ich fühle mich heute sehr gestresst.\"\n",
    "        - 'other': Sobald es im text um eine Tätigkeit oder ein Thema geht, das nicht in die anderen Kategorien passt. Beispiel: \"Das essen war lecker\"\n",
    "        \n",
    "        Gib NUR das passende Label zurück, ohne zusätzliche Formatierungen oder Erklärungen.\n",
    "        \n",
    "        Text: {}\n",
    "    \"\"\")\n",
    " \n",
    "    system_message = {\n",
    "        'role': 'system',\n",
    "        'content': \"Du bist ein Bewerter, der Texte in Kategorien einteilt. Deine Aufgabe ist es, jeden gegebenen Text genau zu analysieren und das passendste Label auszuwählen. Es geht darum, das Thema zu identifizieren, über das die Leute sprechen: physische Belange ihres Körpers, soziale Aktivitäten mit anderen Menschen, psychologische Themen, oder die Umwelt und das Wetter.\",\n",
    "    }\n",
    "\n",
    "    classifications = []\n",
    "\n",
    "    for sentence in df[column].fillna(''):\n",
    "        current_prompt = prompt_template.format(sentence)\n",
    "\n",
    "        response = ollama.chat(model='llama3', messages=[\n",
    "                system_message,\n",
    "                {\n",
    "                    'role': 'user',\n",
    "                    'content': current_prompt,\n",
    "                },\n",
    "            ],\n",
    "            options = {\n",
    "\n",
    "          'temperature': 0\n",
    "        }) \n",
    "\n",
    "        label = extract_label(response['message']['content'])\n",
    "        classifications.append(label)\n",
    "\n",
    "    df[column + '_classification'] = classifications\n",
    "\n",
    "    return df"
   ],
   "metadata": {
    "collapsed": false
   },
   "id": "19906b4cbe1d71a3",
   "execution_count": null
  },
  {
   "cell_type": "code",
   "outputs": [],
   "source": [
    "# res_yr_activities\n",
    "res_yr_activities = analyze_sentiment(df, column='yrActivities')\n",
    "res_selected_res_yr_activities = res_yr_activities[['yrActivities', 'yrActivities_classification']]\n",
    "res_selected_res_yr_activities"
   ],
   "metadata": {
    "collapsed": false
   },
   "id": "729422e9f413e10d",
   "execution_count": null
  },
  {
   "cell_type": "code",
   "outputs": [],
   "source": [
    "df_merged = pd.merge(res_yr_activities[['FsDaily_id', 'yrActivities_classification']], \n",
    "                     df_eval[['FsDaily_id', 'manual_label_yrActivities']], \n",
    "                     on='FsDaily_id', how='inner')\n",
    "\n",
    "def calculate_accuracy(predictions, labels):\n",
    "    return (predictions == labels).mean()\n",
    "\n",
    "acc_yrActivities = calculate_accuracy(df_merged['yrActivities_classification'], df_merged['manual_label_yrActivities'])\n",
    "\n",
    "print(f\"Acc yrActivities: {acc_yrActivities:.2f}\")"
   ],
   "metadata": {
    "collapsed": false
   },
   "id": "57d9dda05290043d",
   "execution_count": null
  },
  {
   "cell_type": "code",
   "outputs": [],
   "source": [
    "# res_yr_activities\n",
    "res_madeYouHappy = analyze_sentiment(df, column='madeYouHappy')\n",
    "res_selected_res_madeYouHappy = res_madeYouHappy[['madeYouHappy', 'madeYouHappy_classification']]\n",
    "res_selected_res_madeYouHappy"
   ],
   "metadata": {
    "collapsed": false
   },
   "id": "27da4f99a01bd3dc",
   "execution_count": null
  },
  {
   "cell_type": "code",
   "outputs": [],
   "source": [
    "df_merged = pd.merge(res_madeYouHappy[['FsDaily_id', 'madeYouHappy_classification']], \n",
    "                     df_eval[['FsDaily_id', 'manual_label_madeYouHappy']], \n",
    "                     on='FsDaily_id', how='inner')\n",
    "\n",
    "def calculate_accuracy(predictions, labels):\n",
    "    return (predictions == labels).mean()\n",
    "\n",
    "acc_yrDay = calculate_accuracy(df_merged['madeYouHappy_classification'], df_merged['manual_label_madeYouHappy'])\n",
    "\n",
    "print(f\"Acc madeYouHappy: {acc_yrDay:.2f}\")"
   ],
   "metadata": {
    "collapsed": false
   },
   "id": "c96bb482983c1b13",
   "execution_count": null
  },
  {
   "cell_type": "code",
   "outputs": [],
   "source": [
    "# onYrMind\n",
    "res_onYrMind = analyze_sentiment(df, column='onYrMind')\n",
    "res_selected_res_onYrMind = res_onYrMind[['onYrMind', 'onYrMind_classification']]\n",
    "res_selected_res_onYrMind"
   ],
   "metadata": {
    "collapsed": false
   },
   "id": "7c572a7454f37397",
   "execution_count": null
  },
  {
   "cell_type": "code",
   "outputs": [],
   "source": [
    "df_merged = pd.merge(res_onYrMind[['FsDaily_id', 'onYrMind_classification']], \n",
    "                     df_eval[['FsDaily_id', 'manual_label_onYrMind']], \n",
    "                     on='FsDaily_id', how='inner')\n",
    "\n",
    "def calculate_accuracy(predictions, labels):\n",
    "    return (predictions == labels).mean()\n",
    "\n",
    "acc_onYrMind = calculate_accuracy(df_merged['onYrMind_classification'], df_merged['manual_label_onYrMind'])\n",
    "\n",
    "print(f\"Acc onYrMind: {acc_onYrMind:.2f}\")"
   ],
   "metadata": {
    "collapsed": false
   },
   "id": "f1418d1e8e3f2c2f",
   "execution_count": null
  },
  {
   "cell_type": "code",
   "outputs": [],
   "source": [
    "# yrDay\n",
    "res_yrDay = analyze_sentiment(df, column='yrDay')\n",
    "res_selected_res_yrDay = res_yrDay[['yrDay', 'yrDay_classification']]\n",
    "res_selected_res_yrDay"
   ],
   "metadata": {
    "collapsed": false
   },
   "id": "281ee5f6332c1ef4",
   "execution_count": null
  },
  {
   "cell_type": "code",
   "outputs": [],
   "source": [
    "df_merged = pd.merge(res_yrDay[['FsDaily_id', 'yrDay_classification']], \n",
    "                     df_eval[['FsDaily_id', 'manual_label_yrDay']], \n",
    "                     on='FsDaily_id', how='inner')\n",
    "\n",
    "def calculate_accuracy(predictions, labels):\n",
    "    return (predictions == labels).mean()\n",
    "\n",
    "acc_yrDay = calculate_accuracy(df_merged['yrDay_classification'], df_merged['manual_label_yrDay'])\n",
    "\n",
    "print(f\"Genauigkeit yrDay: {acc_yrDay:.2f}\")"
   ],
   "metadata": {
    "collapsed": false
   },
   "id": "d0596b17deff8643",
   "execution_count": null
  },
  {
   "cell_type": "code",
   "outputs": [],
   "source": [
    "pivot_yr_activities = res_yr_activities.pivot_table(index='user_name', columns='yrActivities_classification', aggfunc='size', fill_value=0)\n",
    "pivot_madeYouHappy = res_madeYouHappy.pivot_table(index='user_name', columns='madeYouHappy_classification', aggfunc='size', fill_value=0)\n",
    "pivot_onYrMind = res_onYrMind.pivot_table(index='user_name', columns='onYrMind_classification', aggfunc='size', fill_value=0)\n",
    "pivot_yrDay = res_yrDay.pivot_table(index='user_name', columns='yrDay_classification', aggfunc='size', fill_value=0)\n",
    "\n",
    "fig, axes = plt.subplots(2, 2, figsize=(15, 10))\n",
    "\n",
    "pivot_yr_activities.plot(kind='bar', stacked=True, ax=axes[0, 0], legend=False)\n",
    "axes[0, 0].set_title('yrActivities')\n",
    "axes[0, 0].set_xlabel('user_name')\n",
    "axes[0, 0].set_ylabel('Number of Entries')\n",
    "\n",
    "pivot_madeYouHappy.plot(kind='bar', stacked=True, ax=axes[0, 1], legend=False)\n",
    "axes[0, 1].set_title('madeYouHappy')\n",
    "axes[0, 1].set_xlabel('user_name')\n",
    "axes[0, 1].set_ylabel('Number of Entries')\n",
    "\n",
    "pivot_onYrMind.plot(kind='bar', stacked=True, ax=axes[1, 0], legend=False)\n",
    "axes[1, 0].set_title('onYrMind')\n",
    "axes[1, 0].set_xlabel('user_name')\n",
    "axes[1, 0].set_ylabel('Number of Entries')\n",
    "\n",
    "bars = pivot_yrDay.plot(kind='bar', stacked=True, ax=axes[1, 1], legend=False)\n",
    "axes[1, 1].set_title('yrDay')\n",
    "axes[1, 1].set_xlabel('user_name')\n",
    "axes[1, 1].set_ylabel('Number of Entries')\n",
    "\n",
    "handles, labels = axes[1, 1].get_legend_handles_labels()\n",
    "fig.legend(handles, labels, title='Categories', bbox_to_anchor=(1.05, 1), loc='upper left')\n",
    "\n",
    "plt.tight_layout()\n",
    "plt.show()"
   ],
   "metadata": {
    "collapsed": false
   },
   "id": "7060034e6256def3",
   "execution_count": null
  },
  {
   "cell_type": "code",
   "outputs": [],
   "source": [
    "\n",
    "import plotly.graph_objects as go\n",
    "\n",
    "user_df = res_yr_activities[res_yr_activities['user_name'] == 'ths3a6']\n",
    "\n",
    "user_classifications = user_df['madeYouHappy_classification'].value_counts(normalize=True).reset_index()\n",
    "user_classifications.columns = ['classification', 'proportion']\n",
    "\n",
    "for category in ['physisch', 'psychologisch', 'sozial']:\n",
    "    if category not in user_classifications['classification'].values:\n",
    "        user_classifications = user_classifications.append({'classification': category, 'proportion': 0}, ignore_index=True)\n",
    "\n",
    "user_classifications = user_classifications.set_index('classification').reindex(['physisch', 'psychologisch', 'sozial']).reset_index()\n",
    "\n",
    "\n",
    "fig = go.Figure()\n",
    "\n",
    "fig.add_trace(go.Scatterternary({\n",
    "    'mode': 'markers',\n",
    "    'name': 'ths3a1',\n",
    "    'a': [user_classifications.loc[user_classifications['classification'] == 'physisch', 'proportion'].values[0]],\n",
    "    'b': [user_classifications.loc[user_classifications['classification'] == 'psychologisch', 'proportion'].values[0]],\n",
    "    'c': [user_classifications.loc[user_classifications['classification'] == 'sozial', 'proportion'].values[0]],\n",
    "    'marker': {'symbol': 100, 'size': 14}\n",
    "}))\n",
    "\n",
    "fig.update_layout({\n",
    "    'ternary': {\n",
    "        'sum': 1,\n",
    "        'aaxis': {'title': 'Physisch', 'min': 0.01, 'linewidth': 2, 'ticks': 'outside'},\n",
    "        'baxis': {'title': 'Psychologisch', 'min': 0.01, 'linewidth': 2, 'ticks': 'outside'},\n",
    "        'caxis': {'title': 'Sozial', 'min': 0.01, 'linewidth': 2, 'ticks': 'outside'}\n",
    "    },\n",
    "    'title': 'Klassifikationen von ths3a1 in einem ternären Diagramm'\n",
    "})\n",
    "\n",
    "fig.show()\n"
   ],
   "metadata": {
    "collapsed": false
   },
   "id": "72d7e09108f40f85",
   "execution_count": null
  },
  {
   "cell_type": "code",
   "outputs": [],
   "source": [
    "df_eval[df_eval['manual_label_yrActivities'] == 'other']"
   ],
   "metadata": {
    "collapsed": false
   },
   "id": "4c4fa61cb4310a06",
   "execution_count": null
  },
  {
   "cell_type": "code",
   "outputs": [],
   "source": [
    "df_eval"
   ],
   "metadata": {
    "collapsed": false
   },
   "id": "7696aca22f787aaa",
   "execution_count": null
  }
 ],
 "metadata": {
  "kernelspec": {
   "display_name": "Python 3",
   "language": "python",
   "name": "python3"
  },
  "language_info": {
   "codemirror_mode": {
    "name": "ipython",
    "version": 2
   },
   "file_extension": ".py",
   "mimetype": "text/x-python",
   "name": "python",
   "nbconvert_exporter": "python",
   "pygments_lexer": "ipython2",
   "version": "2.7.6"
  }
 },
 "nbformat": 4,
 "nbformat_minor": 5
}
