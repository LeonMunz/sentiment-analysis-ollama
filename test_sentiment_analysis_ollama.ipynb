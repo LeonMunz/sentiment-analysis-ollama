{
 "cells": [
  {
   "cell_type": "code",
   "execution_count": 82,
   "id": "initial_id",
   "metadata": {
    "collapsed": true,
    "ExecuteTime": {
     "end_time": "2024-05-13T09:56:38.224223200Z",
     "start_time": "2024-05-13T09:56:38.203953500Z"
    }
   },
   "outputs": [],
   "source": [
    "import pandas as pd\n",
    "import ollama\n"
   ]
  },
  {
   "cell_type": "code",
   "outputs": [
    {
     "data": {
      "text/plain": "                                             sentence    label\n0                               Ich bin so glücklich!  positiv\n1                         Der Urlaub war fantastisch!  positiv\n2              Ich habe die beste Nachricht erhalten!  positiv\n3   Das Essen war köstlich und der Service ausgeze...  positiv\n4   Ich habe meinen Traumjob bekommen und bin über...  positiv\n5                Mein Geburtstag war absolut perfekt!  positiv\n6                               Ich liebe diesen Ort!  positiv\n7                          Ich habe einen tollen Tag!  positiv\n8        Ich habe ein wundervolles Geschenk bekommen!  positiv\n9                   Ich bin stolz auf meine Leistung!  positiv\n10    Ich habe einen wundervollen Menschen getroffen!  positiv\n11                       Ich habe mein Ziel erreicht!  positiv\n12         Ich bin von der Unterstützung überwältigt!  positiv\n13                          Ich fühle mich großartig!  positiv\n14                  Ich habe ein großes Lob erhalten!  positiv\n15               Das war eine fantastische Erfahrung!  positiv\n16     Ich habe eine großartige Gelegenheit entdeckt!  positiv\n17                         Ich bin dankbar für alles!  positiv\n18              Ich fühle mich wie im siebten Himmel!  positiv\n19       Ich bin wirklich zufrieden mit meinem Leben!  positiv\n20               Ich habe meine Brieftasche verloren.  negativ\n21                Das Essen war kalt und ungenießbar.  negativ\n22        Ich habe eine schlechte Nachricht erhalten.  negativ\n23                         Der Film war enttäuschend.  negativ\n24                Das Wetter ist trüb und regnerisch.  negativ\n25                              Mein Auto ist kaputt.  negativ\n26                     Ich habe einen Fehler gemacht.  negativ\n27  Der Service im Restaurant war langsam und unfr...  negativ\n28                          Ich fühle mich gestresst.  negativ\n29                        Ich bin müde und erschöpft.  negativ\n30                      Ich habe einen Unfall gehabt.  negativ\n31                      Mein Computer ist abgestürzt.  negativ\n32                    Meine Pläne wurden durchkreuzt.  negativ\n33                  Ich habe meine Deadline verpasst.  negativ\n34                        Mein Flug wurde gestrichen.  negativ\n35                 Ich bin enttäuscht von mir selbst.  negativ\n36                             Ich fühle mich einsam.  negativ\n37      Ich habe eine Rechnung vergessen zu bezahlen.  negativ\n38                 Ich habe meine Schlüssel verloren.  negativ\n39                 Mein Tag war wirklich schrecklich.  negativ\n40                               Das Wetter ist okay.  neutral\n41          Ich habe heute nichts Besonderes gemacht.  neutral\n42                                 Der Film war okay.  neutral\n43                   Die Farbe der Wände gefällt mir.  neutral\n44                 Die Zugfahrt war durchschnittlich.  neutral\n45                          Das Essen war in Ordnung.  neutral\n46             Ich bin gerade in der Stadt unterwegs.  neutral\n47                        Heute ist ein normaler Tag.  neutral\n48                       Ich habe keine Meinung dazu.  neutral\n49                     Das Buch ist durchschnittlich.  neutral\n50                          Ich trinke meinen Kaffee.  neutral\n51                                Ich gehe spazieren.  neutral\n52                                Das Hemd passt gut.  neutral\n53                                 Ich lese ein Buch.  neutral\n54                        Ich schaue aus dem Fenster.  neutral\n55                                    Ich höre Musik.  neutral\n56                                Ich gehe einkaufen.  neutral\n57                  Ich telefoniere mit einem Freund.  neutral\n58                              Ich koche Abendessen.  neutral\n59                      Ich mache meine Hausaufgaben.  neutral",
      "text/html": "<div>\n<style scoped>\n    .dataframe tbody tr th:only-of-type {\n        vertical-align: middle;\n    }\n\n    .dataframe tbody tr th {\n        vertical-align: top;\n    }\n\n    .dataframe thead th {\n        text-align: right;\n    }\n</style>\n<table border=\"1\" class=\"dataframe\">\n  <thead>\n    <tr style=\"text-align: right;\">\n      <th></th>\n      <th>sentence</th>\n      <th>label</th>\n    </tr>\n  </thead>\n  <tbody>\n    <tr>\n      <th>0</th>\n      <td>Ich bin so glücklich!</td>\n      <td>positiv</td>\n    </tr>\n    <tr>\n      <th>1</th>\n      <td>Der Urlaub war fantastisch!</td>\n      <td>positiv</td>\n    </tr>\n    <tr>\n      <th>2</th>\n      <td>Ich habe die beste Nachricht erhalten!</td>\n      <td>positiv</td>\n    </tr>\n    <tr>\n      <th>3</th>\n      <td>Das Essen war köstlich und der Service ausgeze...</td>\n      <td>positiv</td>\n    </tr>\n    <tr>\n      <th>4</th>\n      <td>Ich habe meinen Traumjob bekommen und bin über...</td>\n      <td>positiv</td>\n    </tr>\n    <tr>\n      <th>5</th>\n      <td>Mein Geburtstag war absolut perfekt!</td>\n      <td>positiv</td>\n    </tr>\n    <tr>\n      <th>6</th>\n      <td>Ich liebe diesen Ort!</td>\n      <td>positiv</td>\n    </tr>\n    <tr>\n      <th>7</th>\n      <td>Ich habe einen tollen Tag!</td>\n      <td>positiv</td>\n    </tr>\n    <tr>\n      <th>8</th>\n      <td>Ich habe ein wundervolles Geschenk bekommen!</td>\n      <td>positiv</td>\n    </tr>\n    <tr>\n      <th>9</th>\n      <td>Ich bin stolz auf meine Leistung!</td>\n      <td>positiv</td>\n    </tr>\n    <tr>\n      <th>10</th>\n      <td>Ich habe einen wundervollen Menschen getroffen!</td>\n      <td>positiv</td>\n    </tr>\n    <tr>\n      <th>11</th>\n      <td>Ich habe mein Ziel erreicht!</td>\n      <td>positiv</td>\n    </tr>\n    <tr>\n      <th>12</th>\n      <td>Ich bin von der Unterstützung überwältigt!</td>\n      <td>positiv</td>\n    </tr>\n    <tr>\n      <th>13</th>\n      <td>Ich fühle mich großartig!</td>\n      <td>positiv</td>\n    </tr>\n    <tr>\n      <th>14</th>\n      <td>Ich habe ein großes Lob erhalten!</td>\n      <td>positiv</td>\n    </tr>\n    <tr>\n      <th>15</th>\n      <td>Das war eine fantastische Erfahrung!</td>\n      <td>positiv</td>\n    </tr>\n    <tr>\n      <th>16</th>\n      <td>Ich habe eine großartige Gelegenheit entdeckt!</td>\n      <td>positiv</td>\n    </tr>\n    <tr>\n      <th>17</th>\n      <td>Ich bin dankbar für alles!</td>\n      <td>positiv</td>\n    </tr>\n    <tr>\n      <th>18</th>\n      <td>Ich fühle mich wie im siebten Himmel!</td>\n      <td>positiv</td>\n    </tr>\n    <tr>\n      <th>19</th>\n      <td>Ich bin wirklich zufrieden mit meinem Leben!</td>\n      <td>positiv</td>\n    </tr>\n    <tr>\n      <th>20</th>\n      <td>Ich habe meine Brieftasche verloren.</td>\n      <td>negativ</td>\n    </tr>\n    <tr>\n      <th>21</th>\n      <td>Das Essen war kalt und ungenießbar.</td>\n      <td>negativ</td>\n    </tr>\n    <tr>\n      <th>22</th>\n      <td>Ich habe eine schlechte Nachricht erhalten.</td>\n      <td>negativ</td>\n    </tr>\n    <tr>\n      <th>23</th>\n      <td>Der Film war enttäuschend.</td>\n      <td>negativ</td>\n    </tr>\n    <tr>\n      <th>24</th>\n      <td>Das Wetter ist trüb und regnerisch.</td>\n      <td>negativ</td>\n    </tr>\n    <tr>\n      <th>25</th>\n      <td>Mein Auto ist kaputt.</td>\n      <td>negativ</td>\n    </tr>\n    <tr>\n      <th>26</th>\n      <td>Ich habe einen Fehler gemacht.</td>\n      <td>negativ</td>\n    </tr>\n    <tr>\n      <th>27</th>\n      <td>Der Service im Restaurant war langsam und unfr...</td>\n      <td>negativ</td>\n    </tr>\n    <tr>\n      <th>28</th>\n      <td>Ich fühle mich gestresst.</td>\n      <td>negativ</td>\n    </tr>\n    <tr>\n      <th>29</th>\n      <td>Ich bin müde und erschöpft.</td>\n      <td>negativ</td>\n    </tr>\n    <tr>\n      <th>30</th>\n      <td>Ich habe einen Unfall gehabt.</td>\n      <td>negativ</td>\n    </tr>\n    <tr>\n      <th>31</th>\n      <td>Mein Computer ist abgestürzt.</td>\n      <td>negativ</td>\n    </tr>\n    <tr>\n      <th>32</th>\n      <td>Meine Pläne wurden durchkreuzt.</td>\n      <td>negativ</td>\n    </tr>\n    <tr>\n      <th>33</th>\n      <td>Ich habe meine Deadline verpasst.</td>\n      <td>negativ</td>\n    </tr>\n    <tr>\n      <th>34</th>\n      <td>Mein Flug wurde gestrichen.</td>\n      <td>negativ</td>\n    </tr>\n    <tr>\n      <th>35</th>\n      <td>Ich bin enttäuscht von mir selbst.</td>\n      <td>negativ</td>\n    </tr>\n    <tr>\n      <th>36</th>\n      <td>Ich fühle mich einsam.</td>\n      <td>negativ</td>\n    </tr>\n    <tr>\n      <th>37</th>\n      <td>Ich habe eine Rechnung vergessen zu bezahlen.</td>\n      <td>negativ</td>\n    </tr>\n    <tr>\n      <th>38</th>\n      <td>Ich habe meine Schlüssel verloren.</td>\n      <td>negativ</td>\n    </tr>\n    <tr>\n      <th>39</th>\n      <td>Mein Tag war wirklich schrecklich.</td>\n      <td>negativ</td>\n    </tr>\n    <tr>\n      <th>40</th>\n      <td>Das Wetter ist okay.</td>\n      <td>neutral</td>\n    </tr>\n    <tr>\n      <th>41</th>\n      <td>Ich habe heute nichts Besonderes gemacht.</td>\n      <td>neutral</td>\n    </tr>\n    <tr>\n      <th>42</th>\n      <td>Der Film war okay.</td>\n      <td>neutral</td>\n    </tr>\n    <tr>\n      <th>43</th>\n      <td>Die Farbe der Wände gefällt mir.</td>\n      <td>neutral</td>\n    </tr>\n    <tr>\n      <th>44</th>\n      <td>Die Zugfahrt war durchschnittlich.</td>\n      <td>neutral</td>\n    </tr>\n    <tr>\n      <th>45</th>\n      <td>Das Essen war in Ordnung.</td>\n      <td>neutral</td>\n    </tr>\n    <tr>\n      <th>46</th>\n      <td>Ich bin gerade in der Stadt unterwegs.</td>\n      <td>neutral</td>\n    </tr>\n    <tr>\n      <th>47</th>\n      <td>Heute ist ein normaler Tag.</td>\n      <td>neutral</td>\n    </tr>\n    <tr>\n      <th>48</th>\n      <td>Ich habe keine Meinung dazu.</td>\n      <td>neutral</td>\n    </tr>\n    <tr>\n      <th>49</th>\n      <td>Das Buch ist durchschnittlich.</td>\n      <td>neutral</td>\n    </tr>\n    <tr>\n      <th>50</th>\n      <td>Ich trinke meinen Kaffee.</td>\n      <td>neutral</td>\n    </tr>\n    <tr>\n      <th>51</th>\n      <td>Ich gehe spazieren.</td>\n      <td>neutral</td>\n    </tr>\n    <tr>\n      <th>52</th>\n      <td>Das Hemd passt gut.</td>\n      <td>neutral</td>\n    </tr>\n    <tr>\n      <th>53</th>\n      <td>Ich lese ein Buch.</td>\n      <td>neutral</td>\n    </tr>\n    <tr>\n      <th>54</th>\n      <td>Ich schaue aus dem Fenster.</td>\n      <td>neutral</td>\n    </tr>\n    <tr>\n      <th>55</th>\n      <td>Ich höre Musik.</td>\n      <td>neutral</td>\n    </tr>\n    <tr>\n      <th>56</th>\n      <td>Ich gehe einkaufen.</td>\n      <td>neutral</td>\n    </tr>\n    <tr>\n      <th>57</th>\n      <td>Ich telefoniere mit einem Freund.</td>\n      <td>neutral</td>\n    </tr>\n    <tr>\n      <th>58</th>\n      <td>Ich koche Abendessen.</td>\n      <td>neutral</td>\n    </tr>\n    <tr>\n      <th>59</th>\n      <td>Ich mache meine Hausaufgaben.</td>\n      <td>neutral</td>\n    </tr>\n  </tbody>\n</table>\n</div>"
     },
     "execution_count": 88,
     "metadata": {},
     "output_type": "execute_result"
    }
   ],
   "source": [
    "positive_sätze = [\n",
    "    \"Ich bin so glücklich!\",\n",
    "    \"Der Urlaub war fantastisch!\",\n",
    "    \"Ich habe die beste Nachricht erhalten!\",\n",
    "    \"Das Essen war köstlich und der Service ausgezeichnet!\",\n",
    "    \"Ich habe meinen Traumjob bekommen und bin überglücklich!\",\n",
    "    \"Mein Geburtstag war absolut perfekt!\",\n",
    "    \"Ich liebe diesen Ort!\",\n",
    "    \"Ich habe einen tollen Tag!\",\n",
    "    \"Ich habe ein wundervolles Geschenk bekommen!\",\n",
    "    \"Ich bin stolz auf meine Leistung!\",\n",
    "    \"Ich habe einen wundervollen Menschen getroffen!\",\n",
    "    \"Ich habe mein Ziel erreicht!\",\n",
    "    \"Ich bin von der Unterstützung überwältigt!\",\n",
    "    \"Ich fühle mich großartig!\",\n",
    "    \"Ich habe ein großes Lob erhalten!\",\n",
    "    \"Das war eine fantastische Erfahrung!\",\n",
    "    \"Ich habe eine großartige Gelegenheit entdeckt!\",\n",
    "    \"Ich bin dankbar für alles!\",\n",
    "    \"Ich fühle mich wie im siebten Himmel!\",\n",
    "    \"Ich bin wirklich zufrieden mit meinem Leben!\"\n",
    "]\n",
    "\n",
    "negative_sätze = [\n",
    "    \"Ich habe meine Brieftasche verloren.\",\n",
    "    \"Das Essen war kalt und ungenießbar.\",\n",
    "    \"Ich habe eine schlechte Nachricht erhalten.\",\n",
    "    \"Der Film war enttäuschend.\",\n",
    "    \"Das Wetter ist trüb und regnerisch.\",\n",
    "    \"Mein Auto ist kaputt.\",\n",
    "    \"Ich habe einen Fehler gemacht.\",\n",
    "    \"Der Service im Restaurant war langsam und unfreundlich.\",\n",
    "    \"Ich fühle mich gestresst.\",\n",
    "    \"Ich bin müde und erschöpft.\",\n",
    "    \"Ich habe einen Unfall gehabt.\",\n",
    "    \"Mein Computer ist abgestürzt.\",\n",
    "    \"Meine Pläne wurden durchkreuzt.\",\n",
    "    \"Ich habe meine Deadline verpasst.\",\n",
    "    \"Mein Flug wurde gestrichen.\",\n",
    "    \"Ich bin enttäuscht von mir selbst.\",\n",
    "    \"Ich fühle mich einsam.\",\n",
    "    \"Ich habe eine Rechnung vergessen zu bezahlen.\",\n",
    "    \"Ich habe meine Schlüssel verloren.\",\n",
    "    \"Mein Tag war wirklich schrecklich.\"\n",
    "]\n",
    "\n",
    "neutral_sätze = [\n",
    "    \"Das Wetter ist okay.\",\n",
    "    \"Ich habe heute nichts Besonderes gemacht.\",\n",
    "    \"Der Film war okay.\",\n",
    "    \"Die Farbe der Wände gefällt mir.\",\n",
    "    \"Die Zugfahrt war durchschnittlich.\",\n",
    "    \"Das Essen war in Ordnung.\",\n",
    "    \"Ich bin gerade in der Stadt unterwegs.\",\n",
    "    \"Heute ist ein normaler Tag.\",\n",
    "    \"Ich habe keine Meinung dazu.\",\n",
    "    \"Das Buch ist durchschnittlich.\",\n",
    "    \"Ich trinke meinen Kaffee.\",\n",
    "    \"Ich gehe spazieren.\",\n",
    "    \"Das Hemd passt gut.\",\n",
    "    \"Ich lese ein Buch.\",\n",
    "    \"Ich schaue aus dem Fenster.\",\n",
    "    \"Ich höre Musik.\",\n",
    "    \"Ich gehe einkaufen.\",\n",
    "    \"Ich telefoniere mit einem Freund.\",\n",
    "    \"Ich koche Abendessen.\",\n",
    "    \"Ich mache meine Hausaufgaben.\"\n",
    "]\n",
    "\n",
    "df = pd.DataFrame({\n",
    "    'sentence': positive_sätze + negative_sätze + neutral_sätze,\n",
    "    'label': ['positiv'] * len(positive_sätze) + ['negativ'] * len(negative_sätze) + ['neutral'] * len(neutral_sätze)\n",
    "})\n",
    "\n",
    "df\n"
   ],
   "metadata": {
    "collapsed": false,
    "ExecuteTime": {
     "end_time": "2024-05-13T09:57:21.983924100Z",
     "start_time": "2024-05-13T09:57:21.969931800Z"
    }
   },
   "id": "dc601d8b7d034b3b",
   "execution_count": 88
  },
  {
   "cell_type": "code",
   "outputs": [
    {
     "data": {
      "text/plain": "label\npositiv    20\nnegativ    20\nneutral    20\nName: count, dtype: int64"
     },
     "execution_count": 89,
     "metadata": {},
     "output_type": "execute_result"
    }
   ],
   "source": [
    "category_counts = df['label'].value_counts()\n",
    "category_counts"
   ],
   "metadata": {
    "collapsed": false,
    "ExecuteTime": {
     "end_time": "2024-05-13T09:57:24.911686700Z",
     "start_time": "2024-05-13T09:57:24.901678100Z"
    }
   },
   "id": "94f9d772f028841d",
   "execution_count": 89
  },
  {
   "cell_type": "code",
   "outputs": [
    {
     "name": "stdout",
     "output_type": "stream",
     "text": [
      "Ich bin so glücklich! positiv\n",
      "Der Urlaub war fantastisch! positiv\n",
      "Ich habe die beste Nachricht erhalten! positi\n",
      "Das Essen war köstlich und der Service ausgezeichnet!positiv\n",
      "Ich habe meinen Traumjob bekommen und bin überglücklich! Das Sentiment \"Ich habe meinen Traumjob bekommen und bin überglücklich!\" ist 'positiv'.\n",
      "Mein Geburtstag war absolut perfekt! Das Sentiment \"Mein Geburtstag war absolut perfekt!\" ist positiv.\n",
      "Ich liebe diesen Ort! Das sentiment \"Ich liebe diesen Ort!\" ist positiv.\n",
      "Ich habe einen tollen Tag! positiv\n",
      "Ich habe ein wundervolles Geschenk bekommen! positiv\n",
      "Ich bin stolz auf meine Leistung! positiv\n",
      "Ich habe einen wundervollen Menschen getroffen! positiv\n",
      "Ich habe mein Ziel erreicht! positiv\n",
      "Ich bin von der Unterstützung überwältigt! positiv\n",
      "Ich fühle mich großartig! positiv\n",
      "Ich habe ein großes Lob erhalten! Das Sentiment \"Ich habe ein großes Lob erhalten!\" kann als 'positiv' eingestuft werden.\n",
      "Das war eine fantastische Erfahrung! positiv\n",
      "Ich habe eine großartige Gelegenheit entdeckt! positiv\n",
      "Ich bin dankbar für alles! positiv\n",
      "Ich fühle mich wie im siebten Himmel! positiv\n",
      "Ich bin wirklich zufrieden mit meinem Leben! positiv\n",
      "Ich habe meine Brieftasche verloren. Das Sentiment \"Ich habe meine Brieftasche verloren.\" ist 'negativ'.\n",
      "Das Essen war kalt und ungenießbar. negativ\n",
      "Ich habe eine schlechte Nachricht erhalten. negativ\n",
      "Der Film war enttäuschend. negativ\n",
      "Das Wetter ist trüb und regnerisch. Das Sentiment in dem Satz \"Das Wetter ist trüb und regnerisch.\" wäre \"negativ\".\n",
      "Mein Auto ist kaputt. Das Sentiment \"Mein Auto ist kaputt\" wäre \"negativ\".\n",
      "Ich habe einen Fehler gemacht.negativ\n",
      "Der Service im Restaurant war langsam und unfreundlich. negativ\n",
      "Ich fühle mich gestresst. negativ\n",
      "Ich bin müde und erschöpft. Das Sentiment \"Ich bin müde und erschöpft\" kann als negativ eingestuft werden.\n",
      "Ich habe einen Unfall gehabt.Der Satz \"Ich habe einen Unfall gehabt.\" hat ein negatives Sentiment.\n",
      "Mein Computer ist abgestürzt. Der Sentiment \"Mein Computer ist abgestürzt\" wird als 'negativ' eingestuft.\n",
      "Meine Pläne wurden durchkreuzt. negativ\n",
      "Ich habe meine Deadline verpasst.negativ\n",
      "Mein Flug wurde gestrichen. negativ\n",
      "Ich bin enttäuscht von mir selbst. Das Sentiment \"Ich bin enttäuscht von mir selbst\" würde ich als 'negativ' einstufen.\n",
      "Ich fühle mich einsam.negativ\n",
      "Ich habe eine Rechnung vergessen zu bezahlen.neutral\n",
      "Ich habe meine Schlüssel verloren. negativ\n",
      "Mein Tag war wirklich schrecklich. negativ\n",
      "Das Wetter ist okay. Das Sentiment \"Das Wetter ist okay\" kann als 'neutral' eingestuft werden.\n",
      "Ich habe heute nichts Besonderes gemacht.neutral\n",
      "Der Film war okay. neutral\n",
      "Die Farbe der Wände gefällt mir. positiv\n",
      "Die Zugfahrt war durchschnittlich. neutral\n",
      "Das Essen war in Ordnung. Das Sentiment \"Das Essen war in Ordnung.\" wird als \"positiv\" eingestuft.\n",
      "Ich bin gerade in der Stadt unterwegs.neutral\n",
      "Heute ist ein normaler Tag. Das Sentiment \"Heute ist ein normaler Tag\" könnte als neutral angesehen werden.\n",
      "Ich habe keine Meinung dazu. neutral\n",
      "Das Buch ist durchschnittlich. Das Buch ist durchschnittlich. (Label: neutral)\n",
      "Ich trinke meinen Kaffee.neutral\n",
      "Ich gehe spazieren.neutral\n",
      "Das Hemd passt gut. Das Sentiment \"Das Hemd passt gut\" ist positiv.\n",
      "Ich lese ein Buch.neutral\n",
      "Ich schaue aus dem Fenster.neutral\n",
      "Ich höre Musik.neutral\n",
      "Ich gehe einkaufen.neutral\n",
      "Ich telefoniere mit einem Freund.neutral\n",
      "Ich koche Abendessen.neutral\n",
      "Ich mache meine Hausaufgaben.neutral\n"
     ]
    },
    {
     "data": {
      "text/plain": "                                             sentence    label  \\\n0                               Ich bin so glücklich!  positiv   \n1                         Der Urlaub war fantastisch!  positiv   \n2              Ich habe die beste Nachricht erhalten!  positiv   \n3   Das Essen war köstlich und der Service ausgeze...  positiv   \n4   Ich habe meinen Traumjob bekommen und bin über...  positiv   \n5                Mein Geburtstag war absolut perfekt!  positiv   \n6                               Ich liebe diesen Ort!  positiv   \n7                          Ich habe einen tollen Tag!  positiv   \n8        Ich habe ein wundervolles Geschenk bekommen!  positiv   \n9                   Ich bin stolz auf meine Leistung!  positiv   \n10    Ich habe einen wundervollen Menschen getroffen!  positiv   \n11                       Ich habe mein Ziel erreicht!  positiv   \n12         Ich bin von der Unterstützung überwältigt!  positiv   \n13                          Ich fühle mich großartig!  positiv   \n14                  Ich habe ein großes Lob erhalten!  positiv   \n15               Das war eine fantastische Erfahrung!  positiv   \n16     Ich habe eine großartige Gelegenheit entdeckt!  positiv   \n17                         Ich bin dankbar für alles!  positiv   \n18              Ich fühle mich wie im siebten Himmel!  positiv   \n19       Ich bin wirklich zufrieden mit meinem Leben!  positiv   \n20               Ich habe meine Brieftasche verloren.  negativ   \n21                Das Essen war kalt und ungenießbar.  negativ   \n22        Ich habe eine schlechte Nachricht erhalten.  negativ   \n23                         Der Film war enttäuschend.  negativ   \n24                Das Wetter ist trüb und regnerisch.  negativ   \n25                              Mein Auto ist kaputt.  negativ   \n26                     Ich habe einen Fehler gemacht.  negativ   \n27  Der Service im Restaurant war langsam und unfr...  negativ   \n28                          Ich fühle mich gestresst.  negativ   \n29                        Ich bin müde und erschöpft.  negativ   \n30                      Ich habe einen Unfall gehabt.  negativ   \n31                      Mein Computer ist abgestürzt.  negativ   \n32                    Meine Pläne wurden durchkreuzt.  negativ   \n33                  Ich habe meine Deadline verpasst.  negativ   \n34                        Mein Flug wurde gestrichen.  negativ   \n35                 Ich bin enttäuscht von mir selbst.  negativ   \n36                             Ich fühle mich einsam.  negativ   \n37      Ich habe eine Rechnung vergessen zu bezahlen.  negativ   \n38                 Ich habe meine Schlüssel verloren.  negativ   \n39                 Mein Tag war wirklich schrecklich.  negativ   \n40                               Das Wetter ist okay.  neutral   \n41          Ich habe heute nichts Besonderes gemacht.  neutral   \n42                                 Der Film war okay.  neutral   \n43                   Die Farbe der Wände gefällt mir.  neutral   \n44                 Die Zugfahrt war durchschnittlich.  neutral   \n45                          Das Essen war in Ordnung.  neutral   \n46             Ich bin gerade in der Stadt unterwegs.  neutral   \n47                        Heute ist ein normaler Tag.  neutral   \n48                       Ich habe keine Meinung dazu.  neutral   \n49                     Das Buch ist durchschnittlich.  neutral   \n50                          Ich trinke meinen Kaffee.  neutral   \n51                                Ich gehe spazieren.  neutral   \n52                                Das Hemd passt gut.  neutral   \n53                                 Ich lese ein Buch.  neutral   \n54                        Ich schaue aus dem Fenster.  neutral   \n55                                    Ich höre Musik.  neutral   \n56                                Ich gehe einkaufen.  neutral   \n57                  Ich telefoniere mit einem Freund.  neutral   \n58                              Ich koche Abendessen.  neutral   \n59                      Ich mache meine Hausaufgaben.  neutral   \n\n   llm_classification  \n0             positiv  \n1             positiv  \n2                None  \n3             positiv  \n4             positiv  \n5             positiv  \n6             positiv  \n7             positiv  \n8             positiv  \n9             positiv  \n10            positiv  \n11            positiv  \n12            positiv  \n13            positiv  \n14            positiv  \n15            positiv  \n16            positiv  \n17            positiv  \n18            positiv  \n19            positiv  \n20            negativ  \n21            negativ  \n22            negativ  \n23            negativ  \n24            negativ  \n25            negativ  \n26            negativ  \n27            negativ  \n28            negativ  \n29            negativ  \n30            negativ  \n31            negativ  \n32            negativ  \n33            negativ  \n34            negativ  \n35            negativ  \n36            negativ  \n37            neutral  \n38            negativ  \n39            negativ  \n40            neutral  \n41            neutral  \n42            neutral  \n43            positiv  \n44            neutral  \n45            positiv  \n46            neutral  \n47            neutral  \n48            neutral  \n49            neutral  \n50            neutral  \n51            neutral  \n52            positiv  \n53            neutral  \n54            neutral  \n55            neutral  \n56            neutral  \n57            neutral  \n58            neutral  \n59            neutral  ",
      "text/html": "<div>\n<style scoped>\n    .dataframe tbody tr th:only-of-type {\n        vertical-align: middle;\n    }\n\n    .dataframe tbody tr th {\n        vertical-align: top;\n    }\n\n    .dataframe thead th {\n        text-align: right;\n    }\n</style>\n<table border=\"1\" class=\"dataframe\">\n  <thead>\n    <tr style=\"text-align: right;\">\n      <th></th>\n      <th>sentence</th>\n      <th>label</th>\n      <th>llm_classification</th>\n    </tr>\n  </thead>\n  <tbody>\n    <tr>\n      <th>0</th>\n      <td>Ich bin so glücklich!</td>\n      <td>positiv</td>\n      <td>positiv</td>\n    </tr>\n    <tr>\n      <th>1</th>\n      <td>Der Urlaub war fantastisch!</td>\n      <td>positiv</td>\n      <td>positiv</td>\n    </tr>\n    <tr>\n      <th>2</th>\n      <td>Ich habe die beste Nachricht erhalten!</td>\n      <td>positiv</td>\n      <td>None</td>\n    </tr>\n    <tr>\n      <th>3</th>\n      <td>Das Essen war köstlich und der Service ausgeze...</td>\n      <td>positiv</td>\n      <td>positiv</td>\n    </tr>\n    <tr>\n      <th>4</th>\n      <td>Ich habe meinen Traumjob bekommen und bin über...</td>\n      <td>positiv</td>\n      <td>positiv</td>\n    </tr>\n    <tr>\n      <th>5</th>\n      <td>Mein Geburtstag war absolut perfekt!</td>\n      <td>positiv</td>\n      <td>positiv</td>\n    </tr>\n    <tr>\n      <th>6</th>\n      <td>Ich liebe diesen Ort!</td>\n      <td>positiv</td>\n      <td>positiv</td>\n    </tr>\n    <tr>\n      <th>7</th>\n      <td>Ich habe einen tollen Tag!</td>\n      <td>positiv</td>\n      <td>positiv</td>\n    </tr>\n    <tr>\n      <th>8</th>\n      <td>Ich habe ein wundervolles Geschenk bekommen!</td>\n      <td>positiv</td>\n      <td>positiv</td>\n    </tr>\n    <tr>\n      <th>9</th>\n      <td>Ich bin stolz auf meine Leistung!</td>\n      <td>positiv</td>\n      <td>positiv</td>\n    </tr>\n    <tr>\n      <th>10</th>\n      <td>Ich habe einen wundervollen Menschen getroffen!</td>\n      <td>positiv</td>\n      <td>positiv</td>\n    </tr>\n    <tr>\n      <th>11</th>\n      <td>Ich habe mein Ziel erreicht!</td>\n      <td>positiv</td>\n      <td>positiv</td>\n    </tr>\n    <tr>\n      <th>12</th>\n      <td>Ich bin von der Unterstützung überwältigt!</td>\n      <td>positiv</td>\n      <td>positiv</td>\n    </tr>\n    <tr>\n      <th>13</th>\n      <td>Ich fühle mich großartig!</td>\n      <td>positiv</td>\n      <td>positiv</td>\n    </tr>\n    <tr>\n      <th>14</th>\n      <td>Ich habe ein großes Lob erhalten!</td>\n      <td>positiv</td>\n      <td>positiv</td>\n    </tr>\n    <tr>\n      <th>15</th>\n      <td>Das war eine fantastische Erfahrung!</td>\n      <td>positiv</td>\n      <td>positiv</td>\n    </tr>\n    <tr>\n      <th>16</th>\n      <td>Ich habe eine großartige Gelegenheit entdeckt!</td>\n      <td>positiv</td>\n      <td>positiv</td>\n    </tr>\n    <tr>\n      <th>17</th>\n      <td>Ich bin dankbar für alles!</td>\n      <td>positiv</td>\n      <td>positiv</td>\n    </tr>\n    <tr>\n      <th>18</th>\n      <td>Ich fühle mich wie im siebten Himmel!</td>\n      <td>positiv</td>\n      <td>positiv</td>\n    </tr>\n    <tr>\n      <th>19</th>\n      <td>Ich bin wirklich zufrieden mit meinem Leben!</td>\n      <td>positiv</td>\n      <td>positiv</td>\n    </tr>\n    <tr>\n      <th>20</th>\n      <td>Ich habe meine Brieftasche verloren.</td>\n      <td>negativ</td>\n      <td>negativ</td>\n    </tr>\n    <tr>\n      <th>21</th>\n      <td>Das Essen war kalt und ungenießbar.</td>\n      <td>negativ</td>\n      <td>negativ</td>\n    </tr>\n    <tr>\n      <th>22</th>\n      <td>Ich habe eine schlechte Nachricht erhalten.</td>\n      <td>negativ</td>\n      <td>negativ</td>\n    </tr>\n    <tr>\n      <th>23</th>\n      <td>Der Film war enttäuschend.</td>\n      <td>negativ</td>\n      <td>negativ</td>\n    </tr>\n    <tr>\n      <th>24</th>\n      <td>Das Wetter ist trüb und regnerisch.</td>\n      <td>negativ</td>\n      <td>negativ</td>\n    </tr>\n    <tr>\n      <th>25</th>\n      <td>Mein Auto ist kaputt.</td>\n      <td>negativ</td>\n      <td>negativ</td>\n    </tr>\n    <tr>\n      <th>26</th>\n      <td>Ich habe einen Fehler gemacht.</td>\n      <td>negativ</td>\n      <td>negativ</td>\n    </tr>\n    <tr>\n      <th>27</th>\n      <td>Der Service im Restaurant war langsam und unfr...</td>\n      <td>negativ</td>\n      <td>negativ</td>\n    </tr>\n    <tr>\n      <th>28</th>\n      <td>Ich fühle mich gestresst.</td>\n      <td>negativ</td>\n      <td>negativ</td>\n    </tr>\n    <tr>\n      <th>29</th>\n      <td>Ich bin müde und erschöpft.</td>\n      <td>negativ</td>\n      <td>negativ</td>\n    </tr>\n    <tr>\n      <th>30</th>\n      <td>Ich habe einen Unfall gehabt.</td>\n      <td>negativ</td>\n      <td>negativ</td>\n    </tr>\n    <tr>\n      <th>31</th>\n      <td>Mein Computer ist abgestürzt.</td>\n      <td>negativ</td>\n      <td>negativ</td>\n    </tr>\n    <tr>\n      <th>32</th>\n      <td>Meine Pläne wurden durchkreuzt.</td>\n      <td>negativ</td>\n      <td>negativ</td>\n    </tr>\n    <tr>\n      <th>33</th>\n      <td>Ich habe meine Deadline verpasst.</td>\n      <td>negativ</td>\n      <td>negativ</td>\n    </tr>\n    <tr>\n      <th>34</th>\n      <td>Mein Flug wurde gestrichen.</td>\n      <td>negativ</td>\n      <td>negativ</td>\n    </tr>\n    <tr>\n      <th>35</th>\n      <td>Ich bin enttäuscht von mir selbst.</td>\n      <td>negativ</td>\n      <td>negativ</td>\n    </tr>\n    <tr>\n      <th>36</th>\n      <td>Ich fühle mich einsam.</td>\n      <td>negativ</td>\n      <td>negativ</td>\n    </tr>\n    <tr>\n      <th>37</th>\n      <td>Ich habe eine Rechnung vergessen zu bezahlen.</td>\n      <td>negativ</td>\n      <td>neutral</td>\n    </tr>\n    <tr>\n      <th>38</th>\n      <td>Ich habe meine Schlüssel verloren.</td>\n      <td>negativ</td>\n      <td>negativ</td>\n    </tr>\n    <tr>\n      <th>39</th>\n      <td>Mein Tag war wirklich schrecklich.</td>\n      <td>negativ</td>\n      <td>negativ</td>\n    </tr>\n    <tr>\n      <th>40</th>\n      <td>Das Wetter ist okay.</td>\n      <td>neutral</td>\n      <td>neutral</td>\n    </tr>\n    <tr>\n      <th>41</th>\n      <td>Ich habe heute nichts Besonderes gemacht.</td>\n      <td>neutral</td>\n      <td>neutral</td>\n    </tr>\n    <tr>\n      <th>42</th>\n      <td>Der Film war okay.</td>\n      <td>neutral</td>\n      <td>neutral</td>\n    </tr>\n    <tr>\n      <th>43</th>\n      <td>Die Farbe der Wände gefällt mir.</td>\n      <td>neutral</td>\n      <td>positiv</td>\n    </tr>\n    <tr>\n      <th>44</th>\n      <td>Die Zugfahrt war durchschnittlich.</td>\n      <td>neutral</td>\n      <td>neutral</td>\n    </tr>\n    <tr>\n      <th>45</th>\n      <td>Das Essen war in Ordnung.</td>\n      <td>neutral</td>\n      <td>positiv</td>\n    </tr>\n    <tr>\n      <th>46</th>\n      <td>Ich bin gerade in der Stadt unterwegs.</td>\n      <td>neutral</td>\n      <td>neutral</td>\n    </tr>\n    <tr>\n      <th>47</th>\n      <td>Heute ist ein normaler Tag.</td>\n      <td>neutral</td>\n      <td>neutral</td>\n    </tr>\n    <tr>\n      <th>48</th>\n      <td>Ich habe keine Meinung dazu.</td>\n      <td>neutral</td>\n      <td>neutral</td>\n    </tr>\n    <tr>\n      <th>49</th>\n      <td>Das Buch ist durchschnittlich.</td>\n      <td>neutral</td>\n      <td>neutral</td>\n    </tr>\n    <tr>\n      <th>50</th>\n      <td>Ich trinke meinen Kaffee.</td>\n      <td>neutral</td>\n      <td>neutral</td>\n    </tr>\n    <tr>\n      <th>51</th>\n      <td>Ich gehe spazieren.</td>\n      <td>neutral</td>\n      <td>neutral</td>\n    </tr>\n    <tr>\n      <th>52</th>\n      <td>Das Hemd passt gut.</td>\n      <td>neutral</td>\n      <td>positiv</td>\n    </tr>\n    <tr>\n      <th>53</th>\n      <td>Ich lese ein Buch.</td>\n      <td>neutral</td>\n      <td>neutral</td>\n    </tr>\n    <tr>\n      <th>54</th>\n      <td>Ich schaue aus dem Fenster.</td>\n      <td>neutral</td>\n      <td>neutral</td>\n    </tr>\n    <tr>\n      <th>55</th>\n      <td>Ich höre Musik.</td>\n      <td>neutral</td>\n      <td>neutral</td>\n    </tr>\n    <tr>\n      <th>56</th>\n      <td>Ich gehe einkaufen.</td>\n      <td>neutral</td>\n      <td>neutral</td>\n    </tr>\n    <tr>\n      <th>57</th>\n      <td>Ich telefoniere mit einem Freund.</td>\n      <td>neutral</td>\n      <td>neutral</td>\n    </tr>\n    <tr>\n      <th>58</th>\n      <td>Ich koche Abendessen.</td>\n      <td>neutral</td>\n      <td>neutral</td>\n    </tr>\n    <tr>\n      <th>59</th>\n      <td>Ich mache meine Hausaufgaben.</td>\n      <td>neutral</td>\n      <td>neutral</td>\n    </tr>\n  </tbody>\n</table>\n</div>"
     },
     "execution_count": 90,
     "metadata": {},
     "output_type": "execute_result"
    }
   ],
   "source": [
    "def extract_label(response):\n",
    "    candidate_labels = [\"positiv\", \"neutral\", \"negativ\"]\n",
    "\n",
    "    for label in candidate_labels:\n",
    "        if label in response:\n",
    "            return label\n",
    "\n",
    "\n",
    "    return None\n",
    "\n",
    "def analyze_sentiment(df):\n",
    "\n",
    "    candidate_labels = [\"positiv\", \"neutral\", \"negativ\"]\n",
    "    prompt = \"Bitte analysiere das folgende Sentiment: '{}'. \".format('{}')\n",
    "    prompt += f\"\\nMögliche Labels: {' '.join(candidate_labels)}\"\n",
    "    prompt += \"\\nBitte antworte nur mit einem der folgenden Labels: 'positiv', 'neutral', 'negativ'.\"\n",
    "\n",
    "\n",
    "    classifications = []\n",
    "\n",
    "    for sentence in df['sentence']:\n",
    "\n",
    "        current_prompt = prompt.format(sentence)\n",
    "\n",
    "        response = ollama.chat(model='sroecker/sauerkrautlm-7b-hero', messages=[\n",
    "            {\n",
    "                'role': 'user',\n",
    "                'content': current_prompt,\n",
    "            },\n",
    "        ])\n",
    "\n",
    "        label = extract_label(response['message']['content'])\n",
    "        print(sentence + response['message']['content'])\n",
    "\n",
    "        classifications.append(label)\n",
    "\n",
    "    df['llm_classification'] = classifications\n",
    "\n",
    "    return df\n",
    "\n",
    "res = analyze_sentiment(df)\n",
    "res\n"
   ],
   "metadata": {
    "collapsed": false,
    "ExecuteTime": {
     "end_time": "2024-05-13T09:57:47.990633Z",
     "start_time": "2024-05-13T09:57:29.624141500Z"
    }
   },
   "id": "80ef267455e0a582",
   "execution_count": 90
  },
  {
   "cell_type": "code",
   "outputs": [],
   "source": [],
   "metadata": {
    "collapsed": false,
    "ExecuteTime": {
     "start_time": "2024-05-13T09:56:38.273032300Z"
    }
   },
   "id": "27da4f99a01bd3dc"
  },
  {
   "cell_type": "code",
   "outputs": [
    {
     "name": "stdout",
     "output_type": "stream",
     "text": [
      "Accuracy: 0.9166666666666666\n"
     ]
    }
   ],
   "source": [
    "accuracy = (df['label'] == df['llm_classification']).mean()\n",
    "\n",
    "print(\"Accuracy:\", accuracy)\n"
   ],
   "metadata": {
    "collapsed": false,
    "ExecuteTime": {
     "end_time": "2024-05-13T09:57:51.431272600Z",
     "start_time": "2024-05-13T09:57:51.419176500Z"
    }
   },
   "id": "5916f58e4130da3f",
   "execution_count": 91
  }
 ],
 "metadata": {
  "kernelspec": {
   "display_name": "Python 3",
   "language": "python",
   "name": "python3"
  },
  "language_info": {
   "codemirror_mode": {
    "name": "ipython",
    "version": 2
   },
   "file_extension": ".py",
   "mimetype": "text/x-python",
   "name": "python",
   "nbconvert_exporter": "python",
   "pygments_lexer": "ipython2",
   "version": "2.7.6"
  }
 },
 "nbformat": 4,
 "nbformat_minor": 5
}
