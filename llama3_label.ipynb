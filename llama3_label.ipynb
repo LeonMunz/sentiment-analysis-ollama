{
 "cells": [
  {
   "cell_type": "code",
   "execution_count": null,
   "id": "initial_id",
   "metadata": {
    "collapsed": true
   },
   "outputs": [],
   "source": [
    "import pandas as pd\n",
    "import ollama\n",
    "import matplotlib.pyplot as plt"
   ]
  },
  {
   "cell_type": "code",
   "outputs": [],
   "source": [
    "df = pd.read_csv('data/dump_14_06_2024_avatar.csv')\n",
    "df = df.loc[df['user_name'] != 'ths3test']\n",
    "df = df.loc[df['user_name'] != 'Fest']\n",
    "df = df.loc[df['user_name'] != 'Konkretes']\n",
    "df"
   ],
   "metadata": {
    "collapsed": false
   },
   "id": "92ec326dd923e4ca",
   "execution_count": null
  },
  {
   "cell_type": "code",
   "outputs": [],
   "source": [
    "def extract_label(response):\n",
    "    candidate_labels = [\"physisch\", \"psychologisch\", \"sozial\"]\n",
    "\n",
    "    for label in candidate_labels:\n",
    "        if label in response:\n",
    "            return label\n",
    "    return None\n",
    "\n",
    "def analyze_sentiment(df, column):\n",
    "\n",
    "    prompt_template = (\"\"\"\n",
    "    Bitte analysiere den folgenden Text und ordne ihn einer der vorgegebenen Kategorien zu: 'physisch', 'psychologisch', 'sozial'.\n",
    "    \n",
    "    Falls der Text keine Informationen enthält, die eine genaue Zuordnung zulassen, antworte mit 'None'.\n",
    "    \n",
    "    Es geht darum, aus medizinischem Kontext das Thema zu identifizieren, über das der Text handelt: physische Belange des Körpers, soziale Aktivitäten mit anderen Menschen oder psychologische Themen.\n",
    "    \n",
    "    Sobald in dem Text von einer anderen Person berichtet wird, ist es: 'sozial'.\n",
    "    Sobald in dem Text über körperliche Beschwerden, wie Schmerzen oder körperliche Aktivitäten, gesprochen wird, ist es: 'physisch'.\n",
    "    Sobald es in dem Text um das psychische Wohlbefinden geht, ist es: 'psychologisch'.\n",
    "    \n",
    "    Gib NUR das passende Label zurück, ohne zusätzliche Formatierungen oder Erklärungen.\n",
    "    \n",
    "    Text: {}\n",
    "    \"\"\")\n",
    "\n",
    "    system_message = {\n",
    "        'role': 'system',\n",
    "        'content': (\"Du bist ein Bewerter, der Texte in Kategorien einteilt. Deine Aufgabe ist es, \"\n",
    "                    \"jeden gegebenen Text genau zu analysieren und das passendste Label auszuwählen. \"\n",
    "                    \"Es geht darum, das Thema zu identifizieren, über das die Leute sprechen: physische Belange ihres Körpers, soziale Aktivitäten mit anderen Menschen oder psychologische Themen.\"),\n",
    "    }\n",
    "\n",
    "    classifications = []\n",
    "\n",
    "    for sentence in df[column].fillna(''):\n",
    "        current_prompt = prompt_template.format(sentence)\n",
    "\n",
    "        response = ollama.chat(model='llama3', messages=[\n",
    "            system_message,\n",
    "            {\n",
    "                'role': 'user',\n",
    "                'content': current_prompt,\n",
    "            },\n",
    "        ])\n",
    "\n",
    "        label = extract_label(response['message']['content'])\n",
    "        classifications.append(label)\n",
    "\n",
    "    df[column + '_classification'] = classifications\n",
    "\n",
    "    return df"
   ],
   "metadata": {
    "collapsed": false
   },
   "id": "19906b4cbe1d71a3",
   "execution_count": null
  },
  {
   "cell_type": "code",
   "outputs": [],
   "source": [
    "# res_yr_activities\n",
    "res_yr_activities = analyze_sentiment(df, column='yrActivities')\n",
    "res_selected_res_yr_activities = res_yr_activities[['yrActivities', 'yrActivities_classification']]\n",
    "res_selected_res_yr_activities"
   ],
   "metadata": {
    "collapsed": false
   },
   "id": "729422e9f413e10d",
   "execution_count": null
  },
  {
   "cell_type": "code",
   "outputs": [],
   "source": [
    "# res_yr_activities\n",
    "res_madeYouHappy = analyze_sentiment(df, column='madeYouHappy')\n",
    "res_selected_res_madeYouHappy = res_madeYouHappy[['madeYouHappy', 'madeYouHappy_classification']]\n",
    "res_selected_res_madeYouHappy"
   ],
   "metadata": {
    "collapsed": false
   },
   "id": "27da4f99a01bd3dc",
   "execution_count": null
  },
  {
   "cell_type": "code",
   "outputs": [],
   "source": [
    "# onYrMind\n",
    "res_onYrMind = analyze_sentiment(df, column='onYrMind')\n",
    "res_selected_res_onYrMind = res_onYrMind[['onYrMind', 'onYrMind_classification']]\n",
    "res_selected_res_onYrMind"
   ],
   "metadata": {
    "collapsed": false
   },
   "id": "7c572a7454f37397",
   "execution_count": null
  },
  {
   "cell_type": "code",
   "outputs": [],
   "source": [
    "# yrDay\n",
    "res_yrDay = analyze_sentiment(df, column='yrDay')\n",
    "res_selected_res_yrDay = res_yrDay[['yrDay', 'yrDay_classification']]\n",
    "res_selected_res_yrDay"
   ],
   "metadata": {
    "collapsed": false
   },
   "id": "281ee5f6332c1ef4",
   "execution_count": null
  },
  {
   "cell_type": "code",
   "outputs": [],
   "source": [
    "pivot_yr_activities = res_yr_activities.pivot_table(index='user_name', columns='yrActivities_classification', aggfunc='size', fill_value=0)\n",
    "pivot_madeYouHappy = res_madeYouHappy.pivot_table(index='user_name', columns='madeYouHappy_classification', aggfunc='size', fill_value=0)\n",
    "pivot_onYrMind = res_onYrMind.pivot_table(index='user_name', columns='onYrMind_classification', aggfunc='size', fill_value=0)\n",
    "pivot_yrDay = res_yrDay.pivot_table(index='user_name', columns='yrDay_classification', aggfunc='size', fill_value=0)\n",
    "\n",
    "fig, axes = plt.subplots(2, 2, figsize=(15, 10))\n",
    "\n",
    "pivot_yr_activities.plot(kind='bar', stacked=True, ax=axes[0, 0], legend=False)\n",
    "axes[0, 0].set_title('yrActivities')\n",
    "axes[0, 0].set_xlabel('user_name')\n",
    "axes[0, 0].set_ylabel('Number of Entries')\n",
    "\n",
    "pivot_madeYouHappy.plot(kind='bar', stacked=True, ax=axes[0, 1], legend=False)\n",
    "axes[0, 1].set_title('madeYouHappy')\n",
    "axes[0, 1].set_xlabel('user_name')\n",
    "axes[0, 1].set_ylabel('Number of Entries')\n",
    "\n",
    "pivot_onYrMind.plot(kind='bar', stacked=True, ax=axes[1, 0], legend=False)\n",
    "axes[1, 0].set_title('onYrMind')\n",
    "axes[1, 0].set_xlabel('user_name')\n",
    "axes[1, 0].set_ylabel('Number of Entries')\n",
    "\n",
    "bars = pivot_yrDay.plot(kind='bar', stacked=True, ax=axes[1, 1], legend=False)\n",
    "axes[1, 1].set_title('yrDay')\n",
    "axes[1, 1].set_xlabel('user_name')\n",
    "axes[1, 1].set_ylabel('Number of Entries')\n",
    "\n",
    "handles, labels = axes[1, 1].get_legend_handles_labels()\n",
    "fig.legend(handles, labels, title='Categories', bbox_to_anchor=(1.05, 1), loc='upper left')\n",
    "\n",
    "plt.tight_layout()\n",
    "plt.show()"
   ],
   "metadata": {
    "collapsed": false
   },
   "id": "7060034e6256def3",
   "execution_count": null
  }
 ],
 "metadata": {
  "kernelspec": {
   "display_name": "Python 3",
   "language": "python",
   "name": "python3"
  },
  "language_info": {
   "codemirror_mode": {
    "name": "ipython",
    "version": 2
   },
   "file_extension": ".py",
   "mimetype": "text/x-python",
   "name": "python",
   "nbconvert_exporter": "python",
   "pygments_lexer": "ipython2",
   "version": "2.7.6"
  }
 },
 "nbformat": 4,
 "nbformat_minor": 5
}
