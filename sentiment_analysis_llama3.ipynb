{
 "cells": [
  {
   "cell_type": "code",
   "execution_count": null,
   "id": "initial_id",
   "metadata": {
    "collapsed": true
   },
   "outputs": [],
   "source": [
    "import pandas as pd\n",
    "import ollama\n",
    "from datetime import timedelta"
   ]
  },
  {
   "cell_type": "code",
   "outputs": [],
   "source": [
    "def preprocess(df):\n",
    "    df = df[df['created_at'] <= '2024-04-24 17:37']\n",
    "    # 1 bis 6\n",
    "    # keep only rows where 'user_name' includes 'ths3'\n",
    "    #df = df[df['user_name'].str.contains('ths3', case=False)]\n",
    "    df = df[df['user_name'].str.contains(r'ths3p[1-6]', case=False)]\n",
    "    # if two rows have same session id and same answers to all questions, keep only one row\n",
    "    df.drop_duplicates(subset=['session_id', 'yrActivities', 'onYrMind'], keep='first', inplace=True)\n",
    "\n",
    "    # drop rows where the session id is longer than 5 digits\n",
    "    df = df[df['session_id'].astype(str).map(len) <= 5]\n",
    "    \n",
    "    # if two rows have the same session id but different answers to the questions, add one day to the date in \"created_at\" column\n",
    "    # Convert created_at to datetime\n",
    "    df['created_at'] = pd.to_datetime(df['created_at'])\n",
    "    \n",
    "    # Identify duplicates by session_id\n",
    "    duplicates = df[df.duplicated(subset=['session_id'], keep=False)]\n",
    "    \n",
    "    # Iterate over each group of duplicates\n",
    "    for session_id, group in duplicates.groupby('session_id'):\n",
    "        if len(group) > 1:\n",
    "            # Sort by created_at to add days incrementally\n",
    "            group = group.sort_values(by='created_at')\n",
    "            for i in range(1, len(group)):\n",
    "                df.loc[group.index[i], 'created_at'] += timedelta(days=i)\n",
    "                \n",
    "    df = df.dropna(subset=['yrDay'])\n",
    "    \n",
    "    return df\n",
    "\n",
    "# Prepare dfs\n",
    "df = pd.read_csv('data/pepper_dump_19_06_2024.csv')\n",
    "\n",
    "df_eval_c = pd.read_csv('data/peppers_manually_labeled_response_redacted.csv')\n",
    "df_eval_c['created_at'] = pd.to_datetime(df_eval_c['created_at'], errors='coerce')\n",
    "df_eval_c['created_at'] = df_eval_c['created_at'].dt.strftime('%Y-%m-%d %H:%M:%S')\n",
    "\n",
    "# merge all cols to df_eval_c on FsDaily_id\n",
    "additional_columns = [col for col in df.columns if col not in df_eval_c.columns]\n",
    "df_eval_c = df_eval_c.merge(df[['FsDaily_id'] + additional_columns], on='FsDaily_id', how='inner')\n",
    "\n",
    "# Apply preprocessing\n",
    "df = preprocess(df)\n",
    "df_eval = preprocess(df_eval_c)\n",
    "df"
   ],
   "metadata": {
    "collapsed": false
   },
   "id": "4cc555b535d1f774",
   "execution_count": null
  },
  {
   "cell_type": "code",
   "outputs": [],
   "source": [
    "# Mapping für die Sentiment-Werte\n",
    "sentiment_map = {1: 'positiv', 0: 'neutral', -1: 'negativ'}\n",
    "\n",
    "def map_sentiment(value):\n",
    "    return sentiment_map[value]\n",
    "\n",
    "# Erstelle manual_labels DataFrame mit manuell gelabelten Sentiments\n",
    "manual_labels = pd.DataFrame({\n",
    "    'FsDaily_id': df_eval['FsDaily_id'],\n",
    "    'manual_label_yrDay': df_eval['manual_label_yrDay'].apply(map_sentiment),\n",
    "    'manual_label_yrActivities': df_eval['manual_label_yrActivities'].apply(map_sentiment),\n",
    "    'manual_label_madeYouHappy': df_eval['manual_label_madeYouHappy'].apply(map_sentiment),\n",
    "    'manual_label_onYrMind': df_eval['manual_label_onYrMind'].apply(map_sentiment),\n",
    "})\n",
    "\n",
    "manual_labels"
   ],
   "metadata": {
    "collapsed": false
   },
   "id": "1a2000b55d89e84d",
   "execution_count": null
  },
  {
   "cell_type": "code",
   "outputs": [],
   "source": [
    "def extract_label(response):\n",
    "    candidate_labels = [\"positiv\", \"neutral\", \"negativ\"]\n",
    "\n",
    "    for label in candidate_labels:\n",
    "        if label in response:\n",
    "            return label\n",
    "    return None\n",
    "\n",
    "def analyze_sentiment(df, column):\n",
    "    if column == \"yrDay\":\n",
    "        prompt_template = (\"\"\"\n",
    "                Bitte analysiere den folgenden Text nach Sentiment und ordne ihn einer der vorgegebenen Kategorien zu: 'positiv', 'neutral', 'negativ'.\n",
    "                \n",
    "                Den Nutzern wurde dieser Text als Frage gestellt: Wie war dein tag? Darauf antworten die Nutzer mit den Dingen, wie ihr Tag war.\n",
    "                \n",
    "                Bitte analysiere die Antwort und weise die passendste Kategorie zu. Hier sind die Regeln für die Zuordnung:\n",
    "                \n",
    "                - 'positiv': Wenn der Text eine Freude, Zufriedenheit oder ein glückliches Ereignis ausdrückt.\n",
    "                - 'neutral': Wenn der Text eine neutrale Aussage oder Information enthält, ohne starke emotionale Ausdrucksweise.\n",
    "                - 'negativ': Wenn der Text Unzufriedenheit, Frustration oder ein unglückliches Ereignis ausdrückt.\n",
    "                - Falls der Text keine Informationen enthält, die eine genaue Zuordnung zulassen, antworte mit 'None'.\n",
    "                \n",
    "                Die Länge des Texts gibt keinen Aufschluss über das Sentiment.\n",
    "                \n",
    "                Schau dir die Frage und die Antwort genau an und weiße eine der Kategorien zu. Beachte dabei, dass die Frage ist WIE WAR DEIN TAG?\n",
    "                \n",
    "                Frage: Wie war dein Tag?\n",
    "                Antwort: {}\n",
    "                \n",
    "                Gib NUR das passende Label zurück, ohne zusätzliche Formatierungen oder Erklärungen.\n",
    "\n",
    "\n",
    "            \"\"\")\n",
    "        system_message = {\n",
    "        'role': 'system',\n",
    "        'content': (\"Du bist ein Bewerter, der Texte in Kategorien einteilt. Deine Aufgabe ist es, \"\n",
    "                    \"jeden gegebenen Text genau zu analysieren und das passendste Label auszuwählen. \"\n",
    "                    \"Es geht darum, das Sentiment zu bestimmen. Beachte, dass die Frage darauf abzielt, \"\n",
    "                    \"\"),\n",
    "                        }\n",
    "    elif column == \"onYrMind\":\n",
    "        prompt_template = (\"\"\"\n",
    "                Bitte analysiere den folgenden Text nach Sentiment und ordne ihn einer der vorgegebenen Kategorien zu: 'positiv', 'neutral', 'negativ'.\n",
    "                \n",
    "                Den Nutzern wurde dieser Text als Frage gestellt: Was hat dich beschäftigt? Darauf antworten die Nutzer mit den Dingen, die sie beschäftigt haben.\n",
    "                \n",
    "                Bitte analysiere die Antwort und weise die passendste Kategorie zu. Hier sind die Regeln für die Zuordnung:\n",
    "                \n",
    "                - 'positiv': Wenn der Text eine Freude, Zufriedenheit oder ein glückliches Ereignis ausdrückt.\n",
    "                - 'neutral': Wenn der Text eine neutrale Aussage oder Information enthält, ohne starke emotionale Ausdrucksweise.\n",
    "                - 'negativ': Wenn der Text Unzufriedenheit, Frustration oder ein unglückliches Ereignis ausdrückt.\n",
    "                - Falls der Text keine Informationen enthält, die eine genaue Zuordnung zulassen, antworte mit 'None'.\n",
    "                \n",
    "                Die Länge des Texts gibt keinen Aufschluss über das Sentiment.\n",
    "                \n",
    "                Schau dir die Frage und die Antwort genau an und weiße eine der Kategorien zu. Beachte dabei, dass die Frage ist Was hat dich beschäftigt?\n",
    "                \n",
    "                Frage: Was hat dich beschäftigt?\n",
    "                Antwort: {}\n",
    "                \n",
    "                Gib NUR das passende Label zurück, ohne zusätzliche Formatierungen oder Erklärungen.\n",
    "\n",
    "\n",
    "            \"\"\")\n",
    "        system_message = {\n",
    "        'role': 'system',\n",
    "        'content': (\"Du bist ein Bewerter, der Texte in Kategorien einteilt. Deine Aufgabe ist es, \"\n",
    "                    \"jeden gegebenen Text genau zu analysieren und das passendste Label auszuwählen. \"\n",
    "                    \"Es geht darum, das Sentiment zu bestimmen. Beachte, dass die Frage darauf abzielt, \"\n",
    "                    ),\n",
    "                        }\n",
    "    \n",
    "    elif column == \"madeYouHappy\":\n",
    "        prompt_template = (\"\"\"\n",
    "                Bitte analysiere den folgenden Text nach Sentiment und ordne ihn einer der vorgegebenen Kategorien zu: 'positiv', 'neutral', 'negativ'.\n",
    "                \n",
    "                Den Nutzern wurde dieser Text als Frage gestellt: Was hat dich glücklich gemacht? Darauf antworten die Nutzer mit den Dingen, die sie glücklich gemacht haben.\n",
    "                \n",
    "                Bitte analysiere die Antwort und weise die passendste Kategorie zu. Hier sind die Regeln für die Zuordnung:\n",
    "                \n",
    "                - 'positiv': Wenn der Text eine Freude, Zufriedenheit oder ein glückliches Ereignis ausdrückt.\n",
    "                - 'neutral': Wenn der Text eine neutrale Aussage oder Information enthält, ohne starke emotionale Ausdrucksweise.\n",
    "                - 'negativ': Wenn der Text Unzufriedenheit, Frustration oder ein unglückliches Ereignis ausdrückt.\n",
    "                - Falls der Text keine Informationen enthält, die eine genaue Zuordnung zulassen, antworte mit 'None'.\n",
    "                \n",
    "                Die Länge des Texts gibt keinen Aufschluss über das Sentiment.\n",
    "                \n",
    "                Schau dir die Frage und die Antwort genau an und weiße eine der Kategorien zu. Beachte dabei, dass die Frage ist WAS HAT DICH GLÜCKLICH GEMACHT!\n",
    "                Frage: Was hat dich glücklich gemacht?\n",
    "                Antwort: {}\n",
    "                \n",
    "                Gib NUR das passende Label zurück, ohne zusätzliche Formatierungen oder Erklärungen.\n",
    "\n",
    "\n",
    "            \"\"\")\n",
    "        system_message = {\n",
    "        'role': 'system',\n",
    "        'content': (\"Du bist ein Bewerter, der Texte in Kategorien einteilt. Deine Aufgabe ist es, \"\n",
    "                    \"jeden gegebenen Text genau zu analysieren und das passendste Label auszuwählen. \"\n",
    "                    \"Es geht darum, das Sentiment zu bestimmen. Beachte, dass die Frage darauf abzielt, \"\n",
    "                    \"Dinge zu erfahren, die die Nutzer glücklich gemacht haben.\"),\n",
    "                        }\n",
    "    \n",
    "    \n",
    "    elif column == \"yrActivities\":\n",
    "        prompt_template = (\"\"\"\n",
    "                Bitte analysiere den folgenden Text nach Sentiment und ordne ihn einer der vorgegebenen Kategorien zu: 'positiv', 'neutral', 'negativ'.\n",
    "                \n",
    "                Den Nutzern wurde dieser Text als Frage gestellt: Was hast du unternommen? Darauf antworten die Nutzer mit den Dingen, die sie getan haben.\n",
    "                \n",
    "                Bitte analysiere die Antwort und weise die passendste Kategorie zu. Hier sind die Regeln für die Zuordnung:\n",
    "                \n",
    "                1. **Positiv:** Die Antwort drückt explizit Freude, Zufriedenheit oder positive Emotionen aus. Beispiele:\n",
    "                   - \"Ich hatte einen großartigen Tag.\"\n",
    "                   - \"Ich habe eine schöne Zeit mit Freunden verbracht.\"\n",
    "                   - \"Ich habe das Golfspielen sehr genossen.\"\n",
    "                \n",
    "                2. **Neutral:** Die Antwort beschreibt lediglich eine Tätigkeit oder Handlung, ohne emotionale Wertung. Beispiele:\n",
    "                   - \"Ich habe geschlafen.\"\n",
    "                   - \"Ich war einkaufen.\"\n",
    "                   - \"Ich habe gearbeitet.\"\n",
    "                   - \"Ich habe Golf gespielt.\"\n",
    "                \n",
    "                \n",
    "                3. **Negativ:** Die Antwort drückt EXPLIZIT Unzufriedenheit, Frustration oder NEGATIVE Emotionen aus. Beispiele:\n",
    "                   - \"Ich hatte einen schrecklichen Tag.\"\n",
    "                   - \"Ich war sehr enttäuscht.\"\n",
    "                   - \"Ich habe mich gelangweilt.\"\n",
    "                   - \"Das Golfspielen war furchtbar.\"\n",
    "                   - \"Ich fühle mich schlecht, weil ich nichts gemacht habe.\"\n",
    "                \n",
    "                4. Falls der Text keine Informationen enthält, die eine genaue Zuordnung zulassen, antworte mit 'None'.\n",
    "                \n",
    "                Die Länge des Texts gibt keinen Aufschluss über das Sentiment.\n",
    "                \n",
    "                Gib NUR das passende Label zurück, ohne zusätzliche Formatierungen oder Erklärungen.\n",
    "                \n",
    "                Text: {}\n",
    "            \"\"\")\n",
    "    \n",
    "        system_message = {\n",
    "                'role': 'system',\n",
    "                'content': (\"Du bist ein Bewerter, der Texte in Kategorien einteilt. Deine Aufgabe ist es, \"\n",
    "                            \"jeden gegebenen Text genau zu analysieren und das passendste Label auszuwählen. \"\n",
    "                            ),\n",
    "                         }\n",
    "    \n",
    "    \n",
    "    classifications = []\n",
    "\n",
    "    for sentence in df[column].fillna(''):\n",
    "        current_prompt = prompt_template.format(sentence)\n",
    "\n",
    "        response = ollama.chat(model='llama3', messages=[\n",
    "                system_message,\n",
    "                {\n",
    "                    'role': 'user',\n",
    "                    'content': current_prompt,\n",
    "                },\n",
    "            ],\n",
    "            options = {\n",
    "          #'temperature': 1.5, # very creative\n",
    "          'temperature': 0\n",
    "        }) \n",
    "\n",
    "        label = extract_label(response['message']['content'])\n",
    "        classifications.append(label)\n",
    "\n",
    "    df[column + '_classification'] = classifications\n",
    "\n",
    "    return df"
   ],
   "metadata": {
    "collapsed": false
   },
   "id": "3a4ea4a58a767458",
   "execution_count": null
  },
  {
   "cell_type": "code",
   "outputs": [],
   "source": [
    "res_yrDay = analyze_sentiment(df, column='yrDay')\n",
    "res_selected_res_yrDay = res_yrDay[['yrDay', 'yrDay_classification']]\n",
    "res_selected_res_yrDay"
   ],
   "metadata": {
    "collapsed": false
   },
   "id": "73ada088673be7f5",
   "execution_count": null
  },
  {
   "cell_type": "code",
   "outputs": [],
   "source": [
    "df_merged = pd.merge(res_yrDay[['FsDaily_id', 'yrDay_classification']], \n",
    "                     manual_labels[['FsDaily_id', 'manual_label_yrDay']], \n",
    "                     on='FsDaily_id', how='inner')\n",
    "\n",
    "def calculate_accuracy(predictions, labels):\n",
    "    return (predictions == labels).mean()\n",
    "\n",
    "acc_yrDay = calculate_accuracy(df_merged['yrDay_classification'], df_merged['manual_label_yrDay'])\n",
    "\n",
    "print(f\"Genauigkeit yrDay: {acc_yrDay:.2f}\")"
   ],
   "metadata": {
    "collapsed": false
   },
   "id": "53060dddf6d53682",
   "execution_count": null
  },
  {
   "cell_type": "code",
   "outputs": [],
   "source": [
    "res_onYrMind = analyze_sentiment(df, column='onYrMind')\n",
    "res_selected_res_onYrMind = res_onYrMind[['onYrMind', 'onYrMind_classification']]\n",
    "res_selected_res_onYrMind"
   ],
   "metadata": {
    "collapsed": false
   },
   "id": "f236c3edcad8a74d",
   "execution_count": null
  },
  {
   "cell_type": "code",
   "outputs": [],
   "source": [
    "df_merged = pd.merge(res_yrDay[['FsDaily_id', 'onYrMind_classification']], \n",
    "                     manual_labels[['FsDaily_id', 'manual_label_onYrMind']], \n",
    "                     on='FsDaily_id', how='inner')\n",
    "\n",
    "def calculate_accuracy(predictions, labels):\n",
    "    return (predictions == labels).mean()\n",
    "\n",
    "acc_onYrMind = calculate_accuracy(df_merged['onYrMind_classification'], df_merged['manual_label_onYrMind'])\n",
    "\n",
    "print(f\"Acc onYrMind: {acc_onYrMind:.2f}\")"
   ],
   "metadata": {
    "collapsed": false
   },
   "id": "ed0f737250f024c",
   "execution_count": null
  },
  {
   "cell_type": "code",
   "outputs": [],
   "source": [
    "negative_rows = res_selected_res_onYrMind[res_selected_res_onYrMind['onYrMind_classification'] == 'negativ']\n",
    "negative_rows"
   ],
   "metadata": {
    "collapsed": false
   },
   "id": "7bdb204e3554cfaa",
   "execution_count": null
  },
  {
   "cell_type": "code",
   "outputs": [],
   "source": [
    "res_madeYouHappy = analyze_sentiment(df, column='madeYouHappy')\n",
    "res_selected_res_madeYouHappy = res_madeYouHappy[['madeYouHappy', 'madeYouHappy_classification']]\n",
    "res_selected_res_madeYouHappy"
   ],
   "metadata": {
    "collapsed": false
   },
   "id": "763dec3c6b20f462",
   "execution_count": null
  },
  {
   "cell_type": "code",
   "outputs": [],
   "source": [
    "df_merged = pd.merge(res_madeYouHappy[['FsDaily_id', 'madeYouHappy_classification']], \n",
    "                     manual_labels[['FsDaily_id', 'manual_label_madeYouHappy']], \n",
    "                     on='FsDaily_id', how='inner')\n",
    "\n",
    "def calculate_accuracy(predictions, labels):\n",
    "    return (predictions == labels).mean()\n",
    "\n",
    "acc_yrDay = calculate_accuracy(df_merged['madeYouHappy_classification'], df_merged['manual_label_madeYouHappy'])\n",
    "\n",
    "print(f\"Acc madeYouHappy: {acc_yrDay:.2f}\")"
   ],
   "metadata": {
    "collapsed": false
   },
   "id": "4e77e1cdd005c735",
   "execution_count": null
  },
  {
   "cell_type": "code",
   "outputs": [],
   "source": [
    "negative_rows = res_selected_res_madeYouHappy[res_selected_res_madeYouHappy['madeYouHappy_classification'] == 'negativ']\n",
    "negative_rows"
   ],
   "metadata": {
    "collapsed": false
   },
   "id": "7ac2d4064def176e",
   "execution_count": null
  },
  {
   "cell_type": "code",
   "outputs": [],
   "source": [
    "# res_yr_activities\n",
    "res_yr_activities = analyze_sentiment(df, column='yrActivities')\n",
    "res_selected_res_yr_activities = res_yr_activities[['yrActivities', 'yrActivities_classification']]\n",
    "res_selected_res_yr_activities"
   ],
   "metadata": {
    "collapsed": false
   },
   "id": "d02d0a9030d1e678",
   "execution_count": null
  },
  {
   "cell_type": "code",
   "outputs": [],
   "source": [
    "df_merged = pd.merge(res_yr_activities[['FsDaily_id', 'yrActivities_classification']], \n",
    "                     manual_labels[['FsDaily_id', 'manual_label_yrActivities']], \n",
    "                     on='FsDaily_id', how='inner')\n",
    "\n",
    "def calculate_accuracy(predictions, labels):\n",
    "    return (predictions == labels).mean()\n",
    "\n",
    "acc_yrActivities = calculate_accuracy(df_merged['yrActivities_classification'], df_merged['manual_label_yrActivities'])\n",
    "\n",
    "print(f\"Acc yrActivities: {acc_yrActivities:.2f}\")"
   ],
   "metadata": {
    "collapsed": false
   },
   "id": "adcbce45c2021113",
   "execution_count": null
  }
 ],
 "metadata": {
  "kernelspec": {
   "display_name": "Python 3",
   "language": "python",
   "name": "python3"
  },
  "language_info": {
   "codemirror_mode": {
    "name": "ipython",
    "version": 2
   },
   "file_extension": ".py",
   "mimetype": "text/x-python",
   "name": "python",
   "nbconvert_exporter": "python",
   "pygments_lexer": "ipython2",
   "version": "2.7.6"
  }
 },
 "nbformat": 4,
 "nbformat_minor": 5
}
