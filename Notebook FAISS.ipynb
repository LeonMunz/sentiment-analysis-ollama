{
 "cells": [
  {
   "cell_type": "code",
   "execution_count": 8,
   "id": "initial_id",
   "metadata": {
    "collapsed": true,
    "ExecuteTime": {
     "end_time": "2024-06-13T16:02:56.874827400Z",
     "start_time": "2024-06-13T16:02:56.868619900Z"
    }
   },
   "outputs": [],
   "source": [
    "import pandas as pd\n",
    "from sentence_transformers import SentenceTransformer\n",
    "import faiss\n",
    "import numpy as np\n",
    "from tqdm import tqdm, trange"
   ]
  },
  {
   "cell_type": "code",
   "outputs": [
    {
     "data": {
      "text/plain": "                                                text  category\n0        Heute war ich mit meiner Familie Spazieren?    family\n1  Heute habe ich ein Buch gelesen, das hat mir s...  activity\n2  Heute war ein sehr stressiger Tag auf der Arbeit.      work\n3  Heute war mein Geburtstag! Ich habe ihn mit me...    family",
      "text/html": "<div>\n<style scoped>\n    .dataframe tbody tr th:only-of-type {\n        vertical-align: middle;\n    }\n\n    .dataframe tbody tr th {\n        vertical-align: top;\n    }\n\n    .dataframe thead th {\n        text-align: right;\n    }\n</style>\n<table border=\"1\" class=\"dataframe\">\n  <thead>\n    <tr style=\"text-align: right;\">\n      <th></th>\n      <th>text</th>\n      <th>category</th>\n    </tr>\n  </thead>\n  <tbody>\n    <tr>\n      <th>0</th>\n      <td>Heute war ich mit meiner Familie Spazieren?</td>\n      <td>family</td>\n    </tr>\n    <tr>\n      <th>1</th>\n      <td>Heute habe ich ein Buch gelesen, das hat mir s...</td>\n      <td>activity</td>\n    </tr>\n    <tr>\n      <th>2</th>\n      <td>Heute war ein sehr stressiger Tag auf der Arbeit.</td>\n      <td>work</td>\n    </tr>\n    <tr>\n      <th>3</th>\n      <td>Heute war mein Geburtstag! Ich habe ihn mit me...</td>\n      <td>family</td>\n    </tr>\n  </tbody>\n</table>\n</div>"
     },
     "execution_count": 2,
     "metadata": {},
     "output_type": "execute_result"
    }
   ],
   "source": [
    "data = [\n",
    "['Heute war ich mit meiner Familie Spazieren?', 'family'],\n",
    "['Heute habe ich ein Buch gelesen, das hat mir sehr gefallen.', 'activity'],\n",
    "['Heute war ein sehr stressiger Tag auf der Arbeit.', 'work'],\n",
    "['Heute war mein Geburtstag! Ich habe ihn mit meiner Familie und Freunden gefeiert und es war ein unvergesslicher Tag.', 'family']]\n",
    "df = pd.DataFrame(data, columns = ['text', 'category'])\n",
    "df"
   ],
   "metadata": {
    "collapsed": false,
    "ExecuteTime": {
     "end_time": "2024-06-13T15:59:27.097273800Z",
     "start_time": "2024-06-13T15:59:27.075109300Z"
    }
   },
   "id": "85974db4bfa2e58b",
   "execution_count": 2
  },
  {
   "cell_type": "code",
   "outputs": [
    {
     "name": "stderr",
     "output_type": "stream",
     "text": [
      "C:\\Users\\lmunz\\PycharmProjects\\MA_interactive\\.venv\\Lib\\site-packages\\huggingface_hub\\file_download.py:1132: FutureWarning: `resume_download` is deprecated and will be removed in version 1.0.0. Downloads always resume when possible. If you want to force a new download, use `force_download=True`.\n",
      "  warnings.warn(\n"
     ]
    }
   ],
   "source": [
    "# Create Embeddings from data\n",
    "text = df['text']\n",
    "encoder = SentenceTransformer(\"paraphrase-mpnet-base-v2\")\n",
    "vectors = encoder.encode(text)"
   ],
   "metadata": {
    "collapsed": false,
    "ExecuteTime": {
     "end_time": "2024-06-13T15:59:31.949082700Z",
     "start_time": "2024-06-13T15:59:27.097273800Z"
    }
   },
   "id": "ac72c2e2365c0e6e",
   "execution_count": 3
  },
  {
   "cell_type": "code",
   "outputs": [],
   "source": [
    "# Build FAISS index from vectors\n",
    "vector_dimension = vectors.shape[1]\n",
    "index = faiss.IndexFlatL2(vector_dimension)\n",
    "faiss.normalize_L2(vectors)\n",
    "index.add(vectors)"
   ],
   "metadata": {
    "collapsed": false,
    "ExecuteTime": {
     "end_time": "2024-06-13T15:59:31.967024100Z",
     "start_time": "2024-06-13T15:59:31.949082700Z"
    }
   },
   "id": "67397d29d1c67544",
   "execution_count": 4
  },
  {
   "cell_type": "code",
   "outputs": [
    {
     "data": {
      "text/plain": "   distances  ann                                               text  category\n0   0.778020    1  Heute habe ich ein Buch gelesen, das hat mir s...  activity\n1   0.958226    3  Heute war mein Geburtstag! Ich habe ihn mit me...    family\n2   0.966108    2  Heute war ein sehr stressiger Tag auf der Arbeit.      work\n3   1.075433    0        Heute war ich mit meiner Familie Spazieren?    family",
      "text/html": "<div>\n<style scoped>\n    .dataframe tbody tr th:only-of-type {\n        vertical-align: middle;\n    }\n\n    .dataframe tbody tr th {\n        vertical-align: top;\n    }\n\n    .dataframe thead th {\n        text-align: right;\n    }\n</style>\n<table border=\"1\" class=\"dataframe\">\n  <thead>\n    <tr style=\"text-align: right;\">\n      <th></th>\n      <th>distances</th>\n      <th>ann</th>\n      <th>text</th>\n      <th>category</th>\n    </tr>\n  </thead>\n  <tbody>\n    <tr>\n      <th>0</th>\n      <td>0.778020</td>\n      <td>1</td>\n      <td>Heute habe ich ein Buch gelesen, das hat mir s...</td>\n      <td>activity</td>\n    </tr>\n    <tr>\n      <th>1</th>\n      <td>0.958226</td>\n      <td>3</td>\n      <td>Heute war mein Geburtstag! Ich habe ihn mit me...</td>\n      <td>family</td>\n    </tr>\n    <tr>\n      <th>2</th>\n      <td>0.966108</td>\n      <td>2</td>\n      <td>Heute war ein sehr stressiger Tag auf der Arbeit.</td>\n      <td>work</td>\n    </tr>\n    <tr>\n      <th>3</th>\n      <td>1.075433</td>\n      <td>0</td>\n      <td>Heute war ich mit meiner Familie Spazieren?</td>\n      <td>family</td>\n    </tr>\n  </tbody>\n</table>\n</div>"
     },
     "execution_count": 7,
     "metadata": {},
     "output_type": "execute_result"
    }
   ],
   "source": [
    "def vector_search(query):\n",
    "    search_vector = encoder.encode(query)\n",
    "    _vector = np.array([search_vector])\n",
    "    faiss.normalize_L2(_vector)\n",
    "        \n",
    "    k = index.ntotal\n",
    "    distances, ann = index.search(_vector, k=k)\n",
    "    \n",
    "    results = pd.DataFrame({'distances': distances[0], 'ann': ann[0]})\n",
    "    \n",
    "    return results\n",
    "\n",
    "# search_text = 'Heute habe ich viel zeit mit meiner Familie verbracht.'\n",
    "search_text = 'Heute habe ich Computer gespielt'\n",
    "results = vector_search(search_text)\n",
    "\n",
    "# Merge dfs for result presentation\n",
    "merge = pd.merge(results, df, left_on='ann', right_index=True)\n",
    "merge\n"
   ],
   "metadata": {
    "collapsed": false,
    "ExecuteTime": {
     "end_time": "2024-06-13T16:00:34.027712700Z",
     "start_time": "2024-06-13T16:00:33.962504900Z"
    }
   },
   "id": "ff4ee2107988106d",
   "execution_count": 7
  }
 ],
 "metadata": {
  "kernelspec": {
   "display_name": "Python 3",
   "language": "python",
   "name": "python3"
  },
  "language_info": {
   "codemirror_mode": {
    "name": "ipython",
    "version": 2
   },
   "file_extension": ".py",
   "mimetype": "text/x-python",
   "name": "python",
   "nbconvert_exporter": "python",
   "pygments_lexer": "ipython2",
   "version": "2.7.6"
  }
 },
 "nbformat": 4,
 "nbformat_minor": 5
}
